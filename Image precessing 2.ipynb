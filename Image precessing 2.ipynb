{
 "cells": [
  {
   "cell_type": "markdown",
   "metadata": {},
   "source": [
    "# Read, Rename, Resize and save multiple images"
   ]
  },
  {
   "cell_type": "code",
   "execution_count": 1,
   "metadata": {},
   "outputs": [],
   "source": [
    "# Import libraries\n",
    "import cv2\n",
    "import os\n",
    "import glob"
   ]
  },
  {
   "cell_type": "code",
   "execution_count": 2,
   "metadata": {},
   "outputs": [],
   "source": [
    "img_path = r'E:\\2023-YouTube\\Lectures\\Class 2023\\data\\boat'\n",
    "dst_path = r'E:\\2023-YouTube\\Lectures\\Class 2023\\new'"
   ]
  },
  {
   "cell_type": "code",
   "execution_count": 3,
   "metadata": {},
   "outputs": [],
   "source": [
    "i=1\n",
    "for img in glob.glob(img_path+'/*.*'):\n",
    "    try:\n",
    "        image = cv2.imread(img)\n",
    "        img_resize = cv2.resize(image, (100,100))\n",
    "        os.chdir(dst_path)\n",
    "        filename= 'b_'+str(i)+'.png'\n",
    "        cv2.imwrite(filename, img_resize)\n",
    "        i+=1\n",
    "    except:\n",
    "        print('Operation not executed')"
   ]
  },
  {
   "cell_type": "code",
   "execution_count": null,
   "metadata": {},
   "outputs": [],
   "source": []
  }
 ],
 "metadata": {
  "kernelspec": {
   "display_name": "Python 3",
   "language": "python",
   "name": "python3"
  },
  "language_info": {
   "codemirror_mode": {
    "name": "ipython",
    "version": 3
   },
   "file_extension": ".py",
   "mimetype": "text/x-python",
   "name": "python",
   "nbconvert_exporter": "python",
   "pygments_lexer": "ipython3",
   "version": "3.7.4"
  }
 },
 "nbformat": 4,
 "nbformat_minor": 4
}
